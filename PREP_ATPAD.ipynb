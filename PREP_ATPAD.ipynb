{
  "nbformat": 4,
  "nbformat_minor": 0,
  "metadata": {
    "colab": {
      "provenance": [],
      "toc_visible": true,
      "mount_file_id": "1pIlGCH6gcsPjrwwkiYi3TkupCLeKY4oA",
      "authorship_tag": "ABX9TyPk/qV9+tbVs7NLqri+k53f",
      "include_colab_link": true
    },
    "kernelspec": {
      "name": "python3",
      "display_name": "Python 3"
    },
    "language_info": {
      "name": "python"
    }
  },
  "cells": [
    {
      "cell_type": "markdown",
      "metadata": {
        "id": "view-in-github",
        "colab_type": "text"
      },
      "source": [
        "<a href=\"https://colab.research.google.com/github/anscch/ATPAD-LAIDEA-UNAM/blob/main/PREP_ATPAD.ipynb\" target=\"_parent\"><img src=\"https://colab.research.google.com/assets/colab-badge.svg\" alt=\"Open In Colab\"/></a>"
      ]
    },
    {
      "cell_type": "markdown",
      "source": [
        "# ***PREP_ATPAD***\n",
        "\n",
        "\n",
        "\n"
      ],
      "metadata": {
        "id": "ppZs1HdHr7Kx"
      }
    },
    {
      "cell_type": "markdown",
      "source": [
        "# DATASET CONTRUCTION USING RUOA's FILES\n",
        "\n",
        "Select an specific data_dir and station_id. The generated parquet file will be saved in the PARQUET_FILES directory.\n",
        "\n",
        "Once new data is available on the RUOA webpage, new files must be saved inside directories POLLUTION_RAW or METEO_RAW, correspondingly. Then, this code needs to be run to update parquet files. Old files will be rewritten.\n",
        "\n"
      ],
      "metadata": {
        "id": "zta3K-otY-1i"
      }
    },
    {
      "cell_type": "code",
      "execution_count": 11,
      "metadata": {
        "colab": {
          "base_uri": "https://localhost:8080/"
        },
        "id": "VoyWblOeMHZf",
        "outputId": "ff2890ea-bf68-43ef-dd14-fa7ae972e30b"
      },
      "outputs": [
        {
          "output_type": "stream",
          "name": "stdout",
          "text": [
            "                     Time  Temp_Avg  RH_Avg  WSpeed_Avg  WSpeed_Max  WDir_Avg  \\\n",
            "0     2016-06-01 00:00:00     20.40   60.43         NaN         NaN       NaN   \n",
            "1     2016-06-01 01:00:00     19.55   64.79         NaN         NaN       NaN   \n",
            "2     2016-06-01 02:00:00     19.26   65.02         NaN         NaN       NaN   \n",
            "3     2016-06-01 03:00:00     18.94   66.49         NaN         NaN       NaN   \n",
            "4     2016-06-01 04:00:00     17.62   73.73         NaN         NaN       NaN   \n",
            "...                   ...       ...     ...         ...         ...       ...   \n",
            "79485 2024-11-30 19:00:00     19.12   34.24       1.183       1.802     151.1   \n",
            "79486 2024-11-30 20:00:00     16.08   41.93       0.980       1.761     167.6   \n",
            "79487 2024-11-30 21:00:00     14.70   46.79       1.111       1.843     153.6   \n",
            "79488 2024-11-30 22:00:00     13.39   50.91       0.698       2.703     132.5   \n",
            "79489 2024-11-30 23:00:00     11.96   55.80       0.620       1.413     169.4   \n",
            "\n",
            "       Rain_Tot  Press_Avg  Rad_Avg  \n",
            "0           0.0    806.000    0.000  \n",
            "1           0.0    806.000    0.000  \n",
            "2           0.0    806.000    0.000  \n",
            "3           0.0    805.000    0.000  \n",
            "4           0.0    805.000    0.000  \n",
            "...         ...        ...      ...  \n",
            "79485       0.0    805.864    0.383  \n",
            "79486       0.0    806.463   -1.560  \n",
            "79487       0.0    807.182   -1.955  \n",
            "79488       0.0    807.719   -1.636  \n",
            "79489       0.0    807.930   -2.070  \n",
            "\n",
            "[79490 rows x 9 columns]\n"
          ]
        }
      ],
      "source": [
        "import pandas as pd\n",
        "import numpy as np\n",
        "import datetime\n",
        "import glob\n",
        "import csv\n",
        "\n",
        "stations_dicc = ['MORE', 'SLLO', 'AGSC']\n",
        "\n",
        "# Select working directory 'METEO_RAW' for meteorology and 'POLLUTION_RAW' por air pollution data\n",
        "\n",
        "data_dir = 'METEO_RAW' #'POLLUTION_RAW'\n",
        "station_id = 'MORE' #'ERNO' #'SLLO' #'AGSC'\n",
        "\n",
        "####################################################################################################\n",
        "\n",
        "folder_path = '/content/drive/MyDrive/ATPAD_COLAB/' + data_dir + '/'+station_id\n",
        "file_list = glob.glob(folder_path  +\"/*.csv\")\n",
        "\n",
        "# DATASET CONSTRUCTION AND PARQUET FILES GENERATION 'skiprows= 8 pollution; 7 meteo'\n",
        "\n",
        "date_now = datetime.datetime.now().strftime('%Y')\n",
        "main_dataframe = pd.DataFrame()\n",
        "\n",
        "if data_dir == 'POLLUTION_RAW':\n",
        "    rows = 8\n",
        "    for i in range(len(file_list)):\n",
        "        data = pd.read_csv(file_list[i], encoding_errors='ignore', skiprows= rows)\n",
        "        df = pd.DataFrame(data)\n",
        "        main_dataframe = pd.concat([main_dataframe,df],axis=0, ignore_index=True)\n",
        "        #main_dataframe = main_dataframe.reset_index(drop=True)\n",
        "    main_dataframe = main_dataframe.set_axis(['Time', 'O3','O3_flag','SO2','SO2_flag','NO2','NO2_flag','NO' ,'NO_flag' ,'CO', 'CO_flag', 'PM10', 'PM10_flag', 'PM25' ,'PM2.5_flag'], axis=1 )\n",
        "    pollution = main_dataframe[['Time', 'O3','SO2', 'NO2','NO' ,'CO',  'PM10', 'PM25']]\n",
        "    pollution['Time']=pd.to_datetime(pollution['Time'])\n",
        "    pollution.to_parquet('/content/drive/MyDrive/ATPAD_COLAB/PARQUET_FILES/RUOA_' + station_id + '_1h_CAire_'+ date_now + '.parquet')\n",
        "    print(pollution)\n",
        "\n",
        "else:\n",
        "    rows = 7\n",
        "    for i in range(len(file_list)):\n",
        "        data = pd.read_csv(file_list[i], encoding_errors='ignore', skiprows= rows)\n",
        "        df = pd.DataFrame(data)\n",
        "        main_dataframe = pd.concat([main_dataframe,df],axis=0, ignore_index=True)\n",
        "        #main_dataframe = main_dataframe.reset_index(drop=True)\n",
        "    main_dataframe = main_dataframe.set_axis(['Time', 'Temp_Avg','RH_Avg','WSpeed_Avg','WSpeed_Max','WDir_Avg', 'Rain_Tot','Press_Avg','Rad_Avg'], axis=1 )\n",
        "    meteo = main_dataframe\n",
        "    meteo['Time']=pd.to_datetime(meteo['Time'])\n",
        "    meteo.to_parquet('/content/drive/MyDrive/ATPAD_COLAB/PARQUET_FILES/RUOA_' + station_id + '_1h_Meteo_'+ date_now + '.parquet')\n",
        "    print(meteo)\n"
      ]
    },
    {
      "cell_type": "code",
      "source": [],
      "metadata": {
        "id": "4FULNKPBtn_E"
      },
      "execution_count": null,
      "outputs": []
    }
  ]
}