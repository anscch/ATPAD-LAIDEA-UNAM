{
  "nbformat": 4,
  "nbformat_minor": 0,
  "metadata": {
    "colab": {
      "provenance": [],
      "toc_visible": true,
      "mount_file_id": "1pIlGCH6gcsPjrwwkiYi3TkupCLeKY4oA",
      "authorship_tag": "ABX9TyPxHxRsRr7u3ikzT/7xcw/N",
      "include_colab_link": true
    },
    "kernelspec": {
      "name": "python3",
      "display_name": "Python 3"
    },
    "language_info": {
      "name": "python"
    }
  },
  "cells": [
    {
      "cell_type": "markdown",
      "metadata": {
        "id": "view-in-github",
        "colab_type": "text"
      },
      "source": [
        "<a href=\"https://colab.research.google.com/github/anscch/ATPAD-UNAM/blob/main/PREP_ATPAD.ipynb\" target=\"_parent\"><img src=\"https://colab.research.google.com/assets/colab-badge.svg\" alt=\"Open In Colab\"/></a>"
      ]
    },
    {
      "cell_type": "markdown",
      "source": [
        "# ***PREP_ATPAD***\n",
        "\n",
        "\n",
        "\n"
      ],
      "metadata": {
        "id": "ppZs1HdHr7Kx"
      }
    },
    {
      "cell_type": "markdown",
      "source": [
        "# DATASET CONTRUCTION USING RUOA's FILES\n",
        "\n",
        "Select an specific data_dir and station_id. The generated parquet file will be saved in the PARQUET_FILES directory.\n",
        "\n",
        "Once new data is available on the RUOA webpage, new files must be saved inside directories POLLUTION_RAW or METEO_RAW, correspondingly. Then, this code needs to be run to update parquet files. Old files will be rewritten.\n",
        "\n"
      ],
      "metadata": {
        "id": "zta3K-otY-1i"
      }
    },
    {
      "cell_type": "code",
      "execution_count": 11,
      "metadata": {
        "colab": {
          "base_uri": "https://localhost:8080/"
        },
        "id": "VoyWblOeMHZf",
        "outputId": "a76fff0d-13fe-4787-9654-67feb60ba301"
      },
      "outputs": [
        {
          "output_type": "stream",
          "name": "stdout",
          "text": [
            "                     Time  Temp_Avg  RH_Avg  WSpeed_Avg  WSpeed_Max  WDir_Avg  \\\n",
            "0     2015-08-01 00:00:00       NaN     NaN         NaN         NaN       NaN   \n",
            "1     2015-08-01 01:00:00       NaN     NaN         NaN         NaN       NaN   \n",
            "2     2015-08-01 02:00:00       NaN     NaN         NaN         NaN       NaN   \n",
            "3     2015-08-01 03:00:00       NaN     NaN         NaN         NaN       NaN   \n",
            "4     2015-08-01 04:00:00       NaN     NaN         NaN         NaN       NaN   \n",
            "...                   ...       ...     ...         ...         ...       ...   \n",
            "77537 2024-02-26 06:00:00     12.08   76.26       0.076       1.024      13.5   \n",
            "77538 2024-02-26 07:00:00     11.28   79.96       0.074       0.676      29.2   \n",
            "77539 2024-02-26 08:00:00     11.85   75.62       0.235       1.147     334.5   \n",
            "77540 2024-02-26 09:00:00     15.30   62.44       0.029       0.532       8.2   \n",
            "77541 2024-02-26 10:00:00     18.21   54.98       0.631       1.843      98.8   \n",
            "\n",
            "       Rain_Tot  Press_Avg  Rad_Avg  \n",
            "0           NaN        NaN      NaN  \n",
            "1           NaN        NaN      NaN  \n",
            "2           NaN        NaN      NaN  \n",
            "3           NaN        NaN      NaN  \n",
            "4           NaN        NaN      NaN  \n",
            "...         ...        ...      ...  \n",
            "77537       0.0    808.976   -1.691  \n",
            "77538       0.0    809.466   -1.519  \n",
            "77539       0.0    809.882   54.509  \n",
            "77540       0.0    810.192  288.170  \n",
            "77541       0.0    810.466  552.963  \n",
            "\n",
            "[77542 rows x 9 columns]\n"
          ]
        }
      ],
      "source": [
        "import pandas as pd\n",
        "import numpy as np\n",
        "import datetime\n",
        "import glob\n",
        "import csv\n",
        "\n",
        "stations_dicc = ['MORE', 'SLLO', 'AGSC']\n",
        "\n",
        "# Select working directory 'METEO_RAW' for meteorology and 'POLLUTION_RAW' por air pollution data\n",
        "\n",
        "data_dir ='METEO_RAW'  #'POLLUTION_RAW'\n",
        "station_id = 'MORE'   #'SLLO' 'AGSC'\n",
        "\n",
        "####################################################################################################\n",
        "\n",
        "folder_path = '/content/drive/MyDrive/ATPAD_COLAB/' + data_dir + '/'+station_id\n",
        "file_list = glob.glob(folder_path  +\"/*.csv\")\n",
        "\n",
        "# DATASET CONSTRUCTION AND PARQUET FILES GENERATION 'skiprows= 8 pollution; 7 meteo'\n",
        "\n",
        "date_now = datetime.datetime.now().strftime('%Y')\n",
        "main_dataframe = pd.DataFrame()\n",
        "\n",
        "if data_dir == 'POLLUTION_RAW':\n",
        "    rows = 8\n",
        "    for i in range(1,len(file_list)):\n",
        "        data = pd.read_csv(file_list[i], encoding_errors='ignore', skiprows= rows)\n",
        "        df = pd.DataFrame(data)\n",
        "        main_dataframe = pd.concat([main_dataframe,df],axis=0)\n",
        "    main_dataframe = main_dataframe.reset_index(drop=True)\n",
        "    main_dataframe = main_dataframe.set_axis(['Time', 'O3','O3_flag','SO2','SO2_flag','NO2','NO2_flag','NO' ,'NO_flag' ,'CO', 'CO_flag', 'PM10', 'PM10_flag', 'PM25' ,'PM2.5_flag'], axis=1 )\n",
        "    pollution = main_dataframe[['Time', 'O3','SO2', 'NO2','NO' ,'CO',  'PM10', 'PM25']]\n",
        "    pollution['Time']=pd.to_datetime(pollution['Time'])\n",
        "    pollution.to_parquet('/content/drive/MyDrive/ATPAD_COLAB/PARQUET_FILES/RUOA_' + station_id + '_1h_CAire_'+ date_now + '.parquet')\n",
        "    print(pollution)\n",
        "\n",
        "else:\n",
        "    rows = 7\n",
        "    for i in range(1, len(file_list)):\n",
        "        data = pd.read_csv(file_list[i], encoding_errors='ignore', skiprows= rows)\n",
        "        df = pd.DataFrame(data)\n",
        "        main_dataframe = pd.concat([main_dataframe,df],axis=0)\n",
        "        main_dataframe = main_dataframe.reset_index(drop=True)\n",
        "    main_dataframe = main_dataframe.set_axis(['Time', 'Temp_Avg','RH_Avg','WSpeed_Avg','WSpeed_Max','WDir_Avg', 'Rain_Tot','Press_Avg','Rad_Avg'], axis=1 )\n",
        "    meteo = main_dataframe\n",
        "    meteo['Time']=pd.to_datetime(meteo['Time'])\n",
        "    meteo.to_parquet('/content/drive/MyDrive/ATPAD_COLAB/PARQUET_FILES/RUOA_' + station_id + '_1h_Meteo_'+ date_now + '.parquet')\n",
        "    print(meteo)\n",
        "\n"
      ]
    }
  ]
}