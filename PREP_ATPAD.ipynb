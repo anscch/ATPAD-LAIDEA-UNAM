{
  "nbformat": 4,
  "nbformat_minor": 0,
  "metadata": {
    "colab": {
      "provenance": [],
      "toc_visible": true,
      "mount_file_id": "1pIlGCH6gcsPjrwwkiYi3TkupCLeKY4oA",
      "authorship_tag": "ABX9TyPKRKdUdt8Vv42E+WbHiMMD",
      "include_colab_link": true
    },
    "kernelspec": {
      "name": "python3",
      "display_name": "Python 3"
    },
    "language_info": {
      "name": "python"
    }
  },
  "cells": [
    {
      "cell_type": "markdown",
      "metadata": {
        "id": "view-in-github",
        "colab_type": "text"
      },
      "source": [
        "<a href=\"https://colab.research.google.com/github/anscch/ATPAD-LAIDEA-UNAM/blob/main/PREP_ATPAD.ipynb\" target=\"_parent\"><img src=\"https://colab.research.google.com/assets/colab-badge.svg\" alt=\"Open In Colab\"/></a>"
      ]
    },
    {
      "cell_type": "markdown",
      "source": [
        "# ***PREP_ATPAD***\n",
        "\n",
        "\n",
        "\n"
      ],
      "metadata": {
        "id": "ppZs1HdHr7Kx"
      }
    },
    {
      "cell_type": "markdown",
      "source": [
        "# DATASET CONTRUCTION USING RUOA's FILES\n",
        "\n",
        "Select an specific data_dir and station_id. The generated parquet file will be saved in the PARQUET_FILES directory.\n",
        "\n",
        "Once new data is available on the RUOA webpage, new files must be saved inside directories POLLUTION_RAW or METEO_RAW, correspondingly. Then, this code needs to be run to update parquet files. Old files will be rewritten.\n",
        "\n"
      ],
      "metadata": {
        "id": "zta3K-otY-1i"
      }
    },
    {
      "cell_type": "code",
      "execution_count": null,
      "metadata": {
        "colab": {
          "base_uri": "https://localhost:8080/",
          "height": 547
        },
        "id": "VoyWblOeMHZf",
        "outputId": "ef6416d9-8a34-4d7f-e22a-801a50bf85b4"
      },
      "outputs": [
        {
          "output_type": "error",
          "ename": "ValueError",
          "evalue": "time data \"01/12/2024 00:00\" doesn't match format \"%Y-%m-%d %H:%M:%S\", at position 78026. You might want to try:\n    - passing `format` if your strings have a consistent format;\n    - passing `format='ISO8601'` if your strings are all ISO8601 but not necessarily in exactly the same format;\n    - passing `format='mixed'`, and the format will be inferred for each element individually. You might want to use `dayfirst` alongside this.",
          "traceback": [
            "\u001b[0;31m---------------------------------------------------------------------------\u001b[0m",
            "\u001b[0;31mValueError\u001b[0m                                Traceback (most recent call last)",
            "\u001b[0;32m/tmp/ipython-input-23-1416302974.py\u001b[0m in \u001b[0;36m<cell line: 0>\u001b[0;34m()\u001b[0m\n\u001b[1;32m     44\u001b[0m     \u001b[0mmain_dataframe\u001b[0m \u001b[0;34m=\u001b[0m \u001b[0mmain_dataframe\u001b[0m\u001b[0;34m.\u001b[0m\u001b[0mset_axis\u001b[0m\u001b[0;34m(\u001b[0m\u001b[0;34m[\u001b[0m\u001b[0;34m'Time'\u001b[0m\u001b[0;34m,\u001b[0m \u001b[0;34m'Temp_Avg'\u001b[0m\u001b[0;34m,\u001b[0m\u001b[0;34m'RH_Avg'\u001b[0m\u001b[0;34m,\u001b[0m\u001b[0;34m'WSpeed_Avg'\u001b[0m\u001b[0;34m,\u001b[0m\u001b[0;34m'WSpeed_Max'\u001b[0m\u001b[0;34m,\u001b[0m\u001b[0;34m'WDir_Avg'\u001b[0m\u001b[0;34m,\u001b[0m \u001b[0;34m'Rain_Tot'\u001b[0m\u001b[0;34m,\u001b[0m\u001b[0;34m'Press_Avg'\u001b[0m\u001b[0;34m,\u001b[0m\u001b[0;34m'Rad_Avg'\u001b[0m\u001b[0;34m]\u001b[0m\u001b[0;34m,\u001b[0m \u001b[0maxis\u001b[0m\u001b[0;34m=\u001b[0m\u001b[0;36m1\u001b[0m \u001b[0;34m)\u001b[0m\u001b[0;34m\u001b[0m\u001b[0;34m\u001b[0m\u001b[0m\n\u001b[1;32m     45\u001b[0m     \u001b[0mmeteo\u001b[0m \u001b[0;34m=\u001b[0m \u001b[0mmain_dataframe\u001b[0m\u001b[0;34m\u001b[0m\u001b[0;34m\u001b[0m\u001b[0m\n\u001b[0;32m---> 46\u001b[0;31m     \u001b[0mmeteo\u001b[0m\u001b[0;34m[\u001b[0m\u001b[0;34m'Time'\u001b[0m\u001b[0;34m]\u001b[0m\u001b[0;34m=\u001b[0m\u001b[0mpd\u001b[0m\u001b[0;34m.\u001b[0m\u001b[0mto_datetime\u001b[0m\u001b[0;34m(\u001b[0m\u001b[0mmeteo\u001b[0m\u001b[0;34m[\u001b[0m\u001b[0;34m'Time'\u001b[0m\u001b[0;34m]\u001b[0m\u001b[0;34m)\u001b[0m\u001b[0;34m\u001b[0m\u001b[0;34m\u001b[0m\u001b[0m\n\u001b[0m\u001b[1;32m     47\u001b[0m     \u001b[0mmeteo\u001b[0m\u001b[0;34m.\u001b[0m\u001b[0mto_parquet\u001b[0m\u001b[0;34m(\u001b[0m\u001b[0;34m'/content/drive/MyDrive/ATPAD_COLAB/PARQUET_FILES/RUOA_'\u001b[0m \u001b[0;34m+\u001b[0m \u001b[0mstation_id\u001b[0m \u001b[0;34m+\u001b[0m \u001b[0;34m'_1h_Meteo_'\u001b[0m\u001b[0;34m+\u001b[0m \u001b[0mdate_now\u001b[0m \u001b[0;34m+\u001b[0m \u001b[0;34m'.parquet'\u001b[0m\u001b[0;34m)\u001b[0m\u001b[0;34m\u001b[0m\u001b[0;34m\u001b[0m\u001b[0m\n\u001b[1;32m     48\u001b[0m     \u001b[0mprint\u001b[0m\u001b[0;34m(\u001b[0m\u001b[0mmeteo\u001b[0m\u001b[0;34m)\u001b[0m\u001b[0;34m\u001b[0m\u001b[0;34m\u001b[0m\u001b[0m\n",
            "\u001b[0;32m/usr/local/lib/python3.11/dist-packages/pandas/core/tools/datetimes.py\u001b[0m in \u001b[0;36mto_datetime\u001b[0;34m(arg, errors, dayfirst, yearfirst, utc, format, exact, unit, infer_datetime_format, origin, cache)\u001b[0m\n\u001b[1;32m   1065\u001b[0m             \u001b[0mresult\u001b[0m \u001b[0;34m=\u001b[0m \u001b[0marg\u001b[0m\u001b[0;34m.\u001b[0m\u001b[0mmap\u001b[0m\u001b[0;34m(\u001b[0m\u001b[0mcache_array\u001b[0m\u001b[0;34m)\u001b[0m\u001b[0;34m\u001b[0m\u001b[0;34m\u001b[0m\u001b[0m\n\u001b[1;32m   1066\u001b[0m         \u001b[0;32melse\u001b[0m\u001b[0;34m:\u001b[0m\u001b[0;34m\u001b[0m\u001b[0;34m\u001b[0m\u001b[0m\n\u001b[0;32m-> 1067\u001b[0;31m             \u001b[0mvalues\u001b[0m \u001b[0;34m=\u001b[0m \u001b[0mconvert_listlike\u001b[0m\u001b[0;34m(\u001b[0m\u001b[0marg\u001b[0m\u001b[0;34m.\u001b[0m\u001b[0m_values\u001b[0m\u001b[0;34m,\u001b[0m \u001b[0mformat\u001b[0m\u001b[0;34m)\u001b[0m\u001b[0;34m\u001b[0m\u001b[0;34m\u001b[0m\u001b[0m\n\u001b[0m\u001b[1;32m   1068\u001b[0m             \u001b[0mresult\u001b[0m \u001b[0;34m=\u001b[0m \u001b[0marg\u001b[0m\u001b[0;34m.\u001b[0m\u001b[0m_constructor\u001b[0m\u001b[0;34m(\u001b[0m\u001b[0mvalues\u001b[0m\u001b[0;34m,\u001b[0m \u001b[0mindex\u001b[0m\u001b[0;34m=\u001b[0m\u001b[0marg\u001b[0m\u001b[0;34m.\u001b[0m\u001b[0mindex\u001b[0m\u001b[0;34m,\u001b[0m \u001b[0mname\u001b[0m\u001b[0;34m=\u001b[0m\u001b[0marg\u001b[0m\u001b[0;34m.\u001b[0m\u001b[0mname\u001b[0m\u001b[0;34m)\u001b[0m\u001b[0;34m\u001b[0m\u001b[0;34m\u001b[0m\u001b[0m\n\u001b[1;32m   1069\u001b[0m     \u001b[0;32melif\u001b[0m \u001b[0misinstance\u001b[0m\u001b[0;34m(\u001b[0m\u001b[0marg\u001b[0m\u001b[0;34m,\u001b[0m \u001b[0;34m(\u001b[0m\u001b[0mABCDataFrame\u001b[0m\u001b[0;34m,\u001b[0m \u001b[0mabc\u001b[0m\u001b[0;34m.\u001b[0m\u001b[0mMutableMapping\u001b[0m\u001b[0;34m)\u001b[0m\u001b[0;34m)\u001b[0m\u001b[0;34m:\u001b[0m\u001b[0;34m\u001b[0m\u001b[0;34m\u001b[0m\u001b[0m\n",
            "\u001b[0;32m/usr/local/lib/python3.11/dist-packages/pandas/core/tools/datetimes.py\u001b[0m in \u001b[0;36m_convert_listlike_datetimes\u001b[0;34m(arg, format, name, utc, unit, errors, dayfirst, yearfirst, exact)\u001b[0m\n\u001b[1;32m    431\u001b[0m     \u001b[0;31m# `format` could be inferred, or user didn't ask for mixed-format parsing.\u001b[0m\u001b[0;34m\u001b[0m\u001b[0;34m\u001b[0m\u001b[0m\n\u001b[1;32m    432\u001b[0m     \u001b[0;32mif\u001b[0m \u001b[0mformat\u001b[0m \u001b[0;32mis\u001b[0m \u001b[0;32mnot\u001b[0m \u001b[0;32mNone\u001b[0m \u001b[0;32mand\u001b[0m \u001b[0mformat\u001b[0m \u001b[0;34m!=\u001b[0m \u001b[0;34m\"mixed\"\u001b[0m\u001b[0;34m:\u001b[0m\u001b[0;34m\u001b[0m\u001b[0;34m\u001b[0m\u001b[0m\n\u001b[0;32m--> 433\u001b[0;31m         \u001b[0;32mreturn\u001b[0m \u001b[0m_array_strptime_with_fallback\u001b[0m\u001b[0;34m(\u001b[0m\u001b[0marg\u001b[0m\u001b[0;34m,\u001b[0m \u001b[0mname\u001b[0m\u001b[0;34m,\u001b[0m \u001b[0mutc\u001b[0m\u001b[0;34m,\u001b[0m \u001b[0mformat\u001b[0m\u001b[0;34m,\u001b[0m \u001b[0mexact\u001b[0m\u001b[0;34m,\u001b[0m \u001b[0merrors\u001b[0m\u001b[0;34m)\u001b[0m\u001b[0;34m\u001b[0m\u001b[0;34m\u001b[0m\u001b[0m\n\u001b[0m\u001b[1;32m    434\u001b[0m \u001b[0;34m\u001b[0m\u001b[0m\n\u001b[1;32m    435\u001b[0m     result, tz_parsed = objects_to_datetime64(\n",
            "\u001b[0;32m/usr/local/lib/python3.11/dist-packages/pandas/core/tools/datetimes.py\u001b[0m in \u001b[0;36m_array_strptime_with_fallback\u001b[0;34m(arg, name, utc, fmt, exact, errors)\u001b[0m\n\u001b[1;32m    465\u001b[0m     \u001b[0mCall\u001b[0m \u001b[0marray_strptime\u001b[0m\u001b[0;34m,\u001b[0m \u001b[0;32mwith\u001b[0m \u001b[0mfallback\u001b[0m \u001b[0mbehavior\u001b[0m \u001b[0mdepending\u001b[0m \u001b[0mon\u001b[0m \u001b[0;34m'errors'\u001b[0m\u001b[0;34m.\u001b[0m\u001b[0;34m\u001b[0m\u001b[0;34m\u001b[0m\u001b[0m\n\u001b[1;32m    466\u001b[0m     \"\"\"\n\u001b[0;32m--> 467\u001b[0;31m     \u001b[0mresult\u001b[0m\u001b[0;34m,\u001b[0m \u001b[0mtz_out\u001b[0m \u001b[0;34m=\u001b[0m \u001b[0marray_strptime\u001b[0m\u001b[0;34m(\u001b[0m\u001b[0marg\u001b[0m\u001b[0;34m,\u001b[0m \u001b[0mfmt\u001b[0m\u001b[0;34m,\u001b[0m \u001b[0mexact\u001b[0m\u001b[0;34m=\u001b[0m\u001b[0mexact\u001b[0m\u001b[0;34m,\u001b[0m \u001b[0merrors\u001b[0m\u001b[0;34m=\u001b[0m\u001b[0merrors\u001b[0m\u001b[0;34m,\u001b[0m \u001b[0mutc\u001b[0m\u001b[0;34m=\u001b[0m\u001b[0mutc\u001b[0m\u001b[0;34m)\u001b[0m\u001b[0;34m\u001b[0m\u001b[0;34m\u001b[0m\u001b[0m\n\u001b[0m\u001b[1;32m    468\u001b[0m     \u001b[0;32mif\u001b[0m \u001b[0mtz_out\u001b[0m \u001b[0;32mis\u001b[0m \u001b[0;32mnot\u001b[0m \u001b[0;32mNone\u001b[0m\u001b[0;34m:\u001b[0m\u001b[0;34m\u001b[0m\u001b[0;34m\u001b[0m\u001b[0m\n\u001b[1;32m    469\u001b[0m         \u001b[0munit\u001b[0m \u001b[0;34m=\u001b[0m \u001b[0mnp\u001b[0m\u001b[0;34m.\u001b[0m\u001b[0mdatetime_data\u001b[0m\u001b[0;34m(\u001b[0m\u001b[0mresult\u001b[0m\u001b[0;34m.\u001b[0m\u001b[0mdtype\u001b[0m\u001b[0;34m)\u001b[0m\u001b[0;34m[\u001b[0m\u001b[0;36m0\u001b[0m\u001b[0;34m]\u001b[0m\u001b[0;34m\u001b[0m\u001b[0;34m\u001b[0m\u001b[0m\n",
            "\u001b[0;32mstrptime.pyx\u001b[0m in \u001b[0;36mpandas._libs.tslibs.strptime.array_strptime\u001b[0;34m()\u001b[0m\n",
            "\u001b[0;32mstrptime.pyx\u001b[0m in \u001b[0;36mpandas._libs.tslibs.strptime.array_strptime\u001b[0;34m()\u001b[0m\n",
            "\u001b[0;32mstrptime.pyx\u001b[0m in \u001b[0;36mpandas._libs.tslibs.strptime._parse_with_format\u001b[0;34m()\u001b[0m\n",
            "\u001b[0;31mValueError\u001b[0m: time data \"01/12/2024 00:00\" doesn't match format \"%Y-%m-%d %H:%M:%S\", at position 78026. You might want to try:\n    - passing `format` if your strings have a consistent format;\n    - passing `format='ISO8601'` if your strings are all ISO8601 but not necessarily in exactly the same format;\n    - passing `format='mixed'`, and the format will be inferred for each element individually. You might want to use `dayfirst` alongside this."
          ]
        }
      ],
      "source": [
        "import pandas as pd\n",
        "import numpy as np\n",
        "import datetime\n",
        "import glob\n",
        "import csv\n",
        "\n",
        "stations_dicc = ['MORE', 'SLLO', 'AGSC']\n",
        "\n",
        "# Select working directory 'METEO_RAW' for meteorology and 'POLLUTION_RAW' por air pollution data\n",
        "\n",
        "data_dir = #'METEO_RAW' #'POLLUTION_RAW'\n",
        "station_id = #'MORE' #'ERNO' #'SLLO' #'AGSC'\n",
        "\n",
        "####################################################################################################\n",
        "\n",
        "folder_path = '/content/drive/MyDrive/ATPAD_COLAB/' + data_dir + '/'+station_id\n",
        "file_list = glob.glob(folder_path  +\"/*.csv\")\n",
        "\n",
        "# DATASET CONSTRUCTION AND PARQUET FILES GENERATION 'skiprows= 8 pollution; 7 meteo'\n",
        "\n",
        "date_now = datetime.datetime.now().strftime('%Y')\n",
        "main_dataframe = pd.DataFrame()\n",
        "\n",
        "if data_dir == 'POLLUTION_RAW':\n",
        "    rows = 8\n",
        "    for i in range(len(file_list)):\n",
        "        data = pd.read_csv(file_list[i], encoding_errors='ignore', skiprows= rows)\n",
        "        df = pd.DataFrame(data)\n",
        "        main_dataframe = pd.concat([main_dataframe,df],axis=0, ignore_index=True)\n",
        "        #main_dataframe = main_dataframe.reset_index(drop=True)\n",
        "    main_dataframe = main_dataframe.set_axis(['Time', 'O3','O3_flag','SO2','SO2_flag','NO2','NO2_flag','NO' ,'NO_flag' ,'CO', 'CO_flag', 'PM10', 'PM10_flag', 'PM25' ,'PM2.5_flag'], axis=1 )\n",
        "    pollution = main_dataframe[['Time', 'O3','SO2', 'NO2','NO' ,'CO',  'PM10', 'PM25']]\n",
        "    pollution['Time']=pd.to_datetime(pollution['Time'])\n",
        "    pollution.to_parquet('/content/drive/MyDrive/ATPAD_COLAB/PARQUET_FILES/RUOA_' + station_id + '_1h_CAire_'+ date_now + '.parquet')\n",
        "    print(pollution)\n",
        "\n",
        "else:\n",
        "    rows = 7\n",
        "    for i in range(len(file_list)):\n",
        "        data = pd.read_csv(file_list[i], encoding_errors='ignore', skiprows= rows)\n",
        "        df = pd.DataFrame(data)\n",
        "        main_dataframe = pd.concat([main_dataframe,df],axis=0, ignore_index=True)\n",
        "        #main_dataframe = main_dataframe.reset_index(drop=True)\n",
        "    main_dataframe = main_dataframe.set_axis(['Time', 'Temp_Avg','RH_Avg','WSpeed_Avg','WSpeed_Max','WDir_Avg', 'Rain_Tot','Press_Avg','Rad_Avg'], axis=1 )\n",
        "    meteo = main_dataframe\n",
        "    meteo['Time']=pd.to_datetime(meteo['Time'])\n",
        "    meteo.to_parquet('/content/drive/MyDrive/ATPAD_COLAB/PARQUET_FILES/RUOA_' + station_id + '_1h_Meteo_'+ date_now + '.parquet')\n",
        "    print(meteo)\n"
      ]
    },
    {
      "cell_type": "code",
      "source": [],
      "metadata": {
        "id": "4FULNKPBtn_E"
      },
      "execution_count": null,
      "outputs": []
    }
  ]
}